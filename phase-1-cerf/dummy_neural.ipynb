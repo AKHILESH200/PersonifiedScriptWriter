{
 "cells": [
  {
   "cell_type": "code",
   "execution_count": 1,
   "metadata": {},
   "outputs": [],
   "source": [
    "import pandas as pd\n",
    "import numpy as np\n",
    "from nlp import preprocessing as pp"
   ]
  },
  {
   "cell_type": "code",
   "execution_count": 2,
   "metadata": {},
   "outputs": [],
   "source": [
    "vocab_dict = pp.get_cefr_word_dictionary()\n",
    "adv_vocab_dict = pp.get_cefr_word_dictionary_adv()"
   ]
  },
  {
   "cell_type": "code",
   "execution_count": 3,
   "metadata": {},
   "outputs": [],
   "source": [
    "cefr_data = pd.read_csv('data/cefr_readings.csv')"
   ]
  },
  {
   "cell_type": "code",
   "execution_count": 4,
   "metadata": {},
   "outputs": [],
   "source": [
    "cefr_avg_word = pp.get_avg_word_length(cefr_data, 'documents')\n",
    "cefr_data['avg_word_len'] = cefr_avg_word"
   ]
  },
  {
   "cell_type": "code",
   "execution_count": 5,
   "metadata": {},
   "outputs": [],
   "source": [
    "cefr_levels_df = pp.get_word_level_dataframe(cefr_data, 'documents', vocab_dict, adv_vocab_dict)"
   ]
  },
  {
   "cell_type": "code",
   "execution_count": 6,
   "metadata": {},
   "outputs": [],
   "source": [
    "cefr_pos_df = pp.get_part_of_speech_dataframe(cefr_data, 'documents')\n",
    "\n",
    "drop_pos = []\n",
    "for row in pd.DataFrame(cefr_pos_df.sum()).iterrows():\n",
    "    if row[1][0] < 100:\n",
    "        drop_pos.append(row[0])\n",
    "drop_pos\n",
    "\n",
    "cefr_pos_df.drop(drop_pos, axis=1, inplace=True)"
   ]
  },
  {
   "cell_type": "code",
   "execution_count": 7,
   "metadata": {},
   "outputs": [
    {
     "name": "stderr",
     "output_type": "stream",
     "text": [
      "c:\\Users\\ravis\\Desktop\\PersonifiedScriptWriter\\phase-1-cerf\\nlp\\preprocessing.py:126: FutureWarning: The default value of numeric_only in DataFrameGroupBy.sum is deprecated. In a future version, numeric_only will default to False. Either specify numeric_only or select only columns which should be valid for the function.\n",
      "  total_words = df_1.groupby('doc_id').sum()\n"
     ]
    }
   ],
   "source": [
    "cefr_df = pp.get_full_dataframe(cefr_data, 'documents', 'cefr_level', cefr_levels_df, cefr_pos_df)"
   ]
  },
  {
   "cell_type": "code",
   "execution_count": 8,
   "metadata": {},
   "outputs": [
    {
     "data": {
      "text/html": [
       "<div>\n",
       "<style scoped>\n",
       "    .dataframe tbody tr th:only-of-type {\n",
       "        vertical-align: middle;\n",
       "    }\n",
       "\n",
       "    .dataframe tbody tr th {\n",
       "        vertical-align: top;\n",
       "    }\n",
       "\n",
       "    .dataframe thead th {\n",
       "        text-align: right;\n",
       "    }\n",
       "</style>\n",
       "<table border=\"1\" class=\"dataframe\">\n",
       "  <thead>\n",
       "    <tr style=\"text-align: right;\">\n",
       "      <th></th>\n",
       "      <th>documents</th>\n",
       "      <th>cefr_level</th>\n",
       "      <th>avg_word_len</th>\n",
       "      <th>num_of_words</th>\n",
       "      <th>A1</th>\n",
       "      <th>A2</th>\n",
       "      <th>B1</th>\n",
       "      <th>B2</th>\n",
       "      <th>C1</th>\n",
       "      <th>C2</th>\n",
       "      <th>...</th>\n",
       "      <th>VBN</th>\n",
       "      <th>RBS</th>\n",
       "      <th>RBR</th>\n",
       "      <th>MD</th>\n",
       "      <th>RP</th>\n",
       "      <th>JJR</th>\n",
       "      <th>POS</th>\n",
       "      <th>PDT</th>\n",
       "      <th>EX</th>\n",
       "      <th>WDT</th>\n",
       "    </tr>\n",
       "  </thead>\n",
       "  <tbody>\n",
       "    <tr>\n",
       "      <th>0</th>\n",
       "      <td>The Long Night This is David Reilly's first bo...</td>\n",
       "      <td>A2</td>\n",
       "      <td>4.21</td>\n",
       "      <td>187</td>\n",
       "      <td>137</td>\n",
       "      <td>14</td>\n",
       "      <td>9</td>\n",
       "      <td>1</td>\n",
       "      <td>1</td>\n",
       "      <td>0</td>\n",
       "      <td>...</td>\n",
       "      <td>1</td>\n",
       "      <td>1</td>\n",
       "      <td>1</td>\n",
       "      <td>1</td>\n",
       "      <td>0</td>\n",
       "      <td>0</td>\n",
       "      <td>0</td>\n",
       "      <td>0</td>\n",
       "      <td>0</td>\n",
       "      <td>0</td>\n",
       "    </tr>\n",
       "    <tr>\n",
       "      <th>1</th>\n",
       "      <td>Most house burglaries happen between 2 p.m. an...</td>\n",
       "      <td>A2</td>\n",
       "      <td>4.47</td>\n",
       "      <td>191</td>\n",
       "      <td>147</td>\n",
       "      <td>13</td>\n",
       "      <td>11</td>\n",
       "      <td>11</td>\n",
       "      <td>0</td>\n",
       "      <td>0</td>\n",
       "      <td>...</td>\n",
       "      <td>4</td>\n",
       "      <td>0</td>\n",
       "      <td>0</td>\n",
       "      <td>3</td>\n",
       "      <td>2</td>\n",
       "      <td>1</td>\n",
       "      <td>1</td>\n",
       "      <td>0</td>\n",
       "      <td>0</td>\n",
       "      <td>0</td>\n",
       "    </tr>\n",
       "    <tr>\n",
       "      <th>2</th>\n",
       "      <td>One very famous place for tourists in London i...</td>\n",
       "      <td>A2</td>\n",
       "      <td>4.59</td>\n",
       "      <td>112</td>\n",
       "      <td>68</td>\n",
       "      <td>19</td>\n",
       "      <td>6</td>\n",
       "      <td>3</td>\n",
       "      <td>0</td>\n",
       "      <td>0</td>\n",
       "      <td>...</td>\n",
       "      <td>5</td>\n",
       "      <td>0</td>\n",
       "      <td>0</td>\n",
       "      <td>2</td>\n",
       "      <td>0</td>\n",
       "      <td>0</td>\n",
       "      <td>0</td>\n",
       "      <td>0</td>\n",
       "      <td>0</td>\n",
       "      <td>0</td>\n",
       "    </tr>\n",
       "    <tr>\n",
       "      <th>3</th>\n",
       "      <td>To: All staff Subject: Holidays From: D Brown ...</td>\n",
       "      <td>A2</td>\n",
       "      <td>4.13</td>\n",
       "      <td>105</td>\n",
       "      <td>76</td>\n",
       "      <td>9</td>\n",
       "      <td>8</td>\n",
       "      <td>3</td>\n",
       "      <td>0</td>\n",
       "      <td>0</td>\n",
       "      <td>...</td>\n",
       "      <td>0</td>\n",
       "      <td>0</td>\n",
       "      <td>0</td>\n",
       "      <td>4</td>\n",
       "      <td>0</td>\n",
       "      <td>0</td>\n",
       "      <td>0</td>\n",
       "      <td>0</td>\n",
       "      <td>0</td>\n",
       "      <td>0</td>\n",
       "    </tr>\n",
       "    <tr>\n",
       "      <th>4</th>\n",
       "      <td>Canada Geese are large blue and white birds. W...</td>\n",
       "      <td>A2</td>\n",
       "      <td>4.30</td>\n",
       "      <td>194</td>\n",
       "      <td>150</td>\n",
       "      <td>13</td>\n",
       "      <td>18</td>\n",
       "      <td>2</td>\n",
       "      <td>0</td>\n",
       "      <td>0</td>\n",
       "      <td>...</td>\n",
       "      <td>2</td>\n",
       "      <td>0</td>\n",
       "      <td>1</td>\n",
       "      <td>0</td>\n",
       "      <td>1</td>\n",
       "      <td>0</td>\n",
       "      <td>0</td>\n",
       "      <td>1</td>\n",
       "      <td>0</td>\n",
       "      <td>0</td>\n",
       "    </tr>\n",
       "    <tr>\n",
       "      <th>...</th>\n",
       "      <td>...</td>\n",
       "      <td>...</td>\n",
       "      <td>...</td>\n",
       "      <td>...</td>\n",
       "      <td>...</td>\n",
       "      <td>...</td>\n",
       "      <td>...</td>\n",
       "      <td>...</td>\n",
       "      <td>...</td>\n",
       "      <td>...</td>\n",
       "      <td>...</td>\n",
       "      <td>...</td>\n",
       "      <td>...</td>\n",
       "      <td>...</td>\n",
       "      <td>...</td>\n",
       "      <td>...</td>\n",
       "      <td>...</td>\n",
       "      <td>...</td>\n",
       "      <td>...</td>\n",
       "      <td>...</td>\n",
       "      <td>...</td>\n",
       "    </tr>\n",
       "    <tr>\n",
       "      <th>326</th>\n",
       "      <td>Some time ago, a website highlighted the risks...</td>\n",
       "      <td>C2</td>\n",
       "      <td>4.73</td>\n",
       "      <td>757</td>\n",
       "      <td>505</td>\n",
       "      <td>87</td>\n",
       "      <td>72</td>\n",
       "      <td>36</td>\n",
       "      <td>1</td>\n",
       "      <td>11</td>\n",
       "      <td>...</td>\n",
       "      <td>25</td>\n",
       "      <td>0</td>\n",
       "      <td>1</td>\n",
       "      <td>9</td>\n",
       "      <td>6</td>\n",
       "      <td>0</td>\n",
       "      <td>1</td>\n",
       "      <td>2</td>\n",
       "      <td>2</td>\n",
       "      <td>0</td>\n",
       "    </tr>\n",
       "    <tr>\n",
       "      <th>327</th>\n",
       "      <td>A course at the Bamboo Bike Club, run by engin...</td>\n",
       "      <td>C2</td>\n",
       "      <td>4.84</td>\n",
       "      <td>865</td>\n",
       "      <td>521</td>\n",
       "      <td>86</td>\n",
       "      <td>65</td>\n",
       "      <td>76</td>\n",
       "      <td>3</td>\n",
       "      <td>5</td>\n",
       "      <td>...</td>\n",
       "      <td>16</td>\n",
       "      <td>1</td>\n",
       "      <td>3</td>\n",
       "      <td>5</td>\n",
       "      <td>5</td>\n",
       "      <td>2</td>\n",
       "      <td>2</td>\n",
       "      <td>3</td>\n",
       "      <td>0</td>\n",
       "      <td>4</td>\n",
       "    </tr>\n",
       "    <tr>\n",
       "      <th>328</th>\n",
       "      <td>The two sisters kept Lily's driving a secret f...</td>\n",
       "      <td>C2</td>\n",
       "      <td>4.49</td>\n",
       "      <td>928</td>\n",
       "      <td>602</td>\n",
       "      <td>93</td>\n",
       "      <td>91</td>\n",
       "      <td>51</td>\n",
       "      <td>4</td>\n",
       "      <td>8</td>\n",
       "      <td>...</td>\n",
       "      <td>27</td>\n",
       "      <td>1</td>\n",
       "      <td>0</td>\n",
       "      <td>13</td>\n",
       "      <td>4</td>\n",
       "      <td>1</td>\n",
       "      <td>3</td>\n",
       "      <td>1</td>\n",
       "      <td>2</td>\n",
       "      <td>7</td>\n",
       "    </tr>\n",
       "    <tr>\n",
       "      <th>329</th>\n",
       "      <td>I have never begun a novel with more misgiving...</td>\n",
       "      <td>C2</td>\n",
       "      <td>4.18</td>\n",
       "      <td>775</td>\n",
       "      <td>591</td>\n",
       "      <td>82</td>\n",
       "      <td>64</td>\n",
       "      <td>21</td>\n",
       "      <td>4</td>\n",
       "      <td>5</td>\n",
       "      <td>...</td>\n",
       "      <td>30</td>\n",
       "      <td>0</td>\n",
       "      <td>2</td>\n",
       "      <td>24</td>\n",
       "      <td>1</td>\n",
       "      <td>2</td>\n",
       "      <td>0</td>\n",
       "      <td>1</td>\n",
       "      <td>1</td>\n",
       "      <td>6</td>\n",
       "    </tr>\n",
       "    <tr>\n",
       "      <th>330</th>\n",
       "      <td>The transfer to London from Stratford of an ex...</td>\n",
       "      <td>C2</td>\n",
       "      <td>4.59</td>\n",
       "      <td>459</td>\n",
       "      <td>302</td>\n",
       "      <td>62</td>\n",
       "      <td>44</td>\n",
       "      <td>21</td>\n",
       "      <td>2</td>\n",
       "      <td>0</td>\n",
       "      <td>...</td>\n",
       "      <td>8</td>\n",
       "      <td>0</td>\n",
       "      <td>2</td>\n",
       "      <td>4</td>\n",
       "      <td>2</td>\n",
       "      <td>0</td>\n",
       "      <td>1</td>\n",
       "      <td>0</td>\n",
       "      <td>2</td>\n",
       "      <td>2</td>\n",
       "    </tr>\n",
       "  </tbody>\n",
       "</table>\n",
       "<p>331 rows × 41 columns</p>\n",
       "</div>"
      ],
      "text/plain": [
       "                                             documents cefr_level  \\\n",
       "0    The Long Night This is David Reilly's first bo...         A2   \n",
       "1    Most house burglaries happen between 2 p.m. an...         A2   \n",
       "2    One very famous place for tourists in London i...         A2   \n",
       "3    To: All staff Subject: Holidays From: D Brown ...         A2   \n",
       "4    Canada Geese are large blue and white birds. W...         A2   \n",
       "..                                                 ...        ...   \n",
       "326  Some time ago, a website highlighted the risks...         C2   \n",
       "327  A course at the Bamboo Bike Club, run by engin...         C2   \n",
       "328  The two sisters kept Lily's driving a secret f...         C2   \n",
       "329  I have never begun a novel with more misgiving...         C2   \n",
       "330  The transfer to London from Stratford of an ex...         C2   \n",
       "\n",
       "     avg_word_len  num_of_words   A1  A2  B1  B2  C1  C2  ...  VBN  RBS  RBR  \\\n",
       "0            4.21           187  137  14   9   1   1   0  ...    1    1    1   \n",
       "1            4.47           191  147  13  11  11   0   0  ...    4    0    0   \n",
       "2            4.59           112   68  19   6   3   0   0  ...    5    0    0   \n",
       "3            4.13           105   76   9   8   3   0   0  ...    0    0    0   \n",
       "4            4.30           194  150  13  18   2   0   0  ...    2    0    1   \n",
       "..            ...           ...  ...  ..  ..  ..  ..  ..  ...  ...  ...  ...   \n",
       "326          4.73           757  505  87  72  36   1  11  ...   25    0    1   \n",
       "327          4.84           865  521  86  65  76   3   5  ...   16    1    3   \n",
       "328          4.49           928  602  93  91  51   4   8  ...   27    1    0   \n",
       "329          4.18           775  591  82  64  21   4   5  ...   30    0    2   \n",
       "330          4.59           459  302  62  44  21   2   0  ...    8    0    2   \n",
       "\n",
       "     MD  RP  JJR  POS  PDT  EX  WDT  \n",
       "0     1   0    0    0    0   0    0  \n",
       "1     3   2    1    1    0   0    0  \n",
       "2     2   0    0    0    0   0    0  \n",
       "3     4   0    0    0    0   0    0  \n",
       "4     0   1    0    0    1   0    0  \n",
       "..   ..  ..  ...  ...  ...  ..  ...  \n",
       "326   9   6    0    1    2   2    0  \n",
       "327   5   5    2    2    3   0    4  \n",
       "328  13   4    1    3    1   2    7  \n",
       "329  24   1    2    0    1   1    6  \n",
       "330   4   2    0    1    0   2    2  \n",
       "\n",
       "[331 rows x 41 columns]"
      ]
     },
     "execution_count": 8,
     "metadata": {},
     "output_type": "execute_result"
    }
   ],
   "source": [
    "cefr_df"
   ]
  },
  {
   "cell_type": "code",
   "execution_count": 9,
   "metadata": {},
   "outputs": [
    {
     "data": {
      "text/plain": [
       "documents        object\n",
       "cefr_level       object\n",
       "avg_word_len    float64\n",
       "num_of_words      int64\n",
       "A1                int64\n",
       "A2                int64\n",
       "B1                int64\n",
       "B2                int64\n",
       "C1                int64\n",
       "C2                int64\n",
       "DT                int64\n",
       "NNP               int64\n",
       "VBZ               int64\n",
       "RB                int64\n",
       "VBD               int64\n",
       "NN                int64\n",
       "IN                int64\n",
       "VBG               int64\n",
       "JJ                int64\n",
       "NNS               int64\n",
       "WRB               int64\n",
       "PRP               int64\n",
       "CD                int64\n",
       "TO                int64\n",
       "VB                int64\n",
       "JJS               int64\n",
       "VBP               int64\n",
       "CC                int64\n",
       ":                 int64\n",
       "WP                int64\n",
       "PRP$              int64\n",
       "VBN               int64\n",
       "RBS               int64\n",
       "RBR               int64\n",
       "MD                int64\n",
       "RP                int64\n",
       "JJR               int64\n",
       "POS               int64\n",
       "PDT               int64\n",
       "EX                int64\n",
       "WDT               int64\n",
       "dtype: object"
      ]
     },
     "execution_count": 9,
     "metadata": {},
     "output_type": "execute_result"
    }
   ],
   "source": [
    "cefr_df.dtypes"
   ]
  },
  {
   "cell_type": "code",
   "execution_count": 21,
   "metadata": {},
   "outputs": [],
   "source": [
    "cefr_drop = ['documents','cefr_level']\n",
    "cefr_documents = cefr_df.drop(cefr_drop, axis=1)\n",
    "cefr_target = cefr_df['cefr_level']\n",
    "from sklearn.model_selection import train_test_split"
   ]
  },
  {
   "cell_type": "code",
   "execution_count": 41,
   "metadata": {},
   "outputs": [],
   "source": [
    "import numpy as np\n",
    "import tensorflow as tf\n",
    "from tensorflow.python import keras\n",
    "from tensorflow.keras import preprocessing\n",
    "from tensorflow.keras.preprocessing.text import Tokenizer\n",
    "from tensorflow.keras.preprocessing.sequence import pad_sequences\n",
    "from tensorflow.keras.utils import to_categorical\n",
    "from tensorflow.keras.models import Sequential\n",
    "from tensorflow.keras.callbacks import EarlyStopping\n",
    "from tensorflow.keras.layers import Dense, Dropout, SpatialDropout1D, LSTM, Reshape, Embedding, TextVectorization,Bidirectional,concatenate,Flatten"
   ]
  },
  {
   "cell_type": "code",
   "execution_count": 34,
   "metadata": {},
   "outputs": [],
   "source": [
    "label_mapping = {'A2': 0, 'B1': 1, 'B2': 2,'C1':3,'C2':4}\n",
    "y_train_encoded = np.array([label_mapping[label] for label in cefr_target])\n",
    "\n",
    "# Convert integer labels to one-hot encoded categorical labels\n",
    "y_train_categorical = to_categorical(y_train_encoded)"
   ]
  },
  {
   "cell_type": "code",
   "execution_count": 35,
   "metadata": {},
   "outputs": [],
   "source": [
    "X_train, X_test, y_train_categorical, y_test = train_test_split(cefr_documents, y_train_categorical, test_size=0.2, random_state=42,stratify=y_train_categorical)"
   ]
  },
  {
   "cell_type": "code",
   "execution_count": 36,
   "metadata": {},
   "outputs": [
    {
     "data": {
      "text/plain": [
       "(264, 39)"
      ]
     },
     "execution_count": 36,
     "metadata": {},
     "output_type": "execute_result"
    }
   ],
   "source": [
    "X_train.shape"
   ]
  },
  {
   "cell_type": "code",
   "execution_count": 37,
   "metadata": {},
   "outputs": [
    {
     "data": {
      "text/plain": [
       "(264, 5)"
      ]
     },
     "execution_count": 37,
     "metadata": {},
     "output_type": "execute_result"
    }
   ],
   "source": [
    "y_train_categorical.shape"
   ]
  },
  {
   "cell_type": "code",
   "execution_count": 80,
   "metadata": {},
   "outputs": [
    {
     "name": "stdout",
     "output_type": "stream",
     "text": [
      "Epoch 1/100\n",
      "6/6 [==============================] - 19s 939ms/step - loss: 1.6450 - accuracy: 0.2826 - val_loss: 6.7320 - val_accuracy: 0.1875\n",
      "Epoch 2/100\n",
      "6/6 [==============================] - 1s 91ms/step - loss: 2.3976 - accuracy: 0.2717 - val_loss: 1.3296 - val_accuracy: 0.2875\n",
      "Epoch 3/100\n",
      "6/6 [==============================] - 1s 91ms/step - loss: 1.2622 - accuracy: 0.3533 - val_loss: 1.1849 - val_accuracy: 0.3375\n",
      "Epoch 4/100\n",
      "6/6 [==============================] - 1s 91ms/step - loss: 1.1797 - accuracy: 0.4076 - val_loss: 1.0497 - val_accuracy: 0.4500\n",
      "Epoch 5/100\n",
      "6/6 [==============================] - 1s 93ms/step - loss: 1.1108 - accuracy: 0.4402 - val_loss: 1.0356 - val_accuracy: 0.4625\n",
      "Epoch 6/100\n",
      "6/6 [==============================] - 1s 91ms/step - loss: 0.9794 - accuracy: 0.5054 - val_loss: 1.0672 - val_accuracy: 0.4500\n",
      "Epoch 7/100\n",
      "6/6 [==============================] - 1s 91ms/step - loss: 0.9489 - accuracy: 0.5489 - val_loss: 0.9740 - val_accuracy: 0.5875\n",
      "Epoch 8/100\n",
      "6/6 [==============================] - 1s 100ms/step - loss: 0.9873 - accuracy: 0.5217 - val_loss: 0.9288 - val_accuracy: 0.6000\n",
      "Epoch 9/100\n",
      "6/6 [==============================] - 1s 90ms/step - loss: 0.9149 - accuracy: 0.6141 - val_loss: 0.9694 - val_accuracy: 0.6000\n",
      "Epoch 10/100\n",
      "6/6 [==============================] - 1s 90ms/step - loss: 0.8540 - accuracy: 0.6522 - val_loss: 0.9522 - val_accuracy: 0.5875\n",
      "Epoch 11/100\n",
      "6/6 [==============================] - 1s 90ms/step - loss: 0.8727 - accuracy: 0.6033 - val_loss: 0.7670 - val_accuracy: 0.7375\n",
      "Epoch 12/100\n",
      "6/6 [==============================] - 1s 94ms/step - loss: 0.8354 - accuracy: 0.6033 - val_loss: 0.8932 - val_accuracy: 0.5875\n",
      "Epoch 13/100\n",
      "6/6 [==============================] - 1s 92ms/step - loss: 0.9273 - accuracy: 0.5707 - val_loss: 0.7994 - val_accuracy: 0.6750\n",
      "Epoch 14/100\n",
      "6/6 [==============================] - 1s 94ms/step - loss: 0.7959 - accuracy: 0.6304 - val_loss: 0.7378 - val_accuracy: 0.6875\n",
      "Epoch 15/100\n",
      "6/6 [==============================] - 1s 104ms/step - loss: 0.7009 - accuracy: 0.7011 - val_loss: 0.8025 - val_accuracy: 0.6250\n",
      "Epoch 16/100\n",
      "6/6 [==============================] - 1s 92ms/step - loss: 0.7424 - accuracy: 0.6413 - val_loss: 0.6829 - val_accuracy: 0.7250\n",
      "Epoch 17/100\n",
      "6/6 [==============================] - 1s 100ms/step - loss: 0.7254 - accuracy: 0.6576 - val_loss: 0.9881 - val_accuracy: 0.6000\n",
      "Epoch 18/100\n",
      "6/6 [==============================] - 1s 92ms/step - loss: 0.7906 - accuracy: 0.6359 - val_loss: 0.7306 - val_accuracy: 0.6375\n",
      "Epoch 18: early stopping\n"
     ]
    }
   ],
   "source": [
    "model = Sequential([\n",
    "    Bidirectional(LSTM(64, return_sequences=True), input_shape=(X_train.shape[1], 1)),\n",
    "    SpatialDropout1D(0.2),\n",
    "    Bidirectional(LSTM(512, return_sequences=True)),\n",
    "    Bidirectional(LSTM(1024)),\n",
    "    Dense(2048, activation='relu'),\n",
    "    Dense(4096, activation='relu'),\n",
    "    Dense(5, activation='softmax')\n",
    "])\n",
    "\n",
    "\n",
    "model.compile(optimizer='adam',\n",
    "              loss='categorical_crossentropy',\n",
    "              metrics=['accuracy'])\n",
    "\n",
    "with tf.device('/device:GPU:0'):\n",
    "    history=model.fit(X_train, y_train_categorical, epochs=100, batch_size=32, validation_split=0.3,\n",
    "                        callbacks=[EarlyStopping(monitor='loss', patience=3, min_delta=0.0001,verbose=1)])"
   ]
  },
  {
   "cell_type": "code",
   "execution_count": 81,
   "metadata": {},
   "outputs": [
    {
     "name": "stdout",
     "output_type": "stream",
     "text": [
      "3/3 [==============================] - 0s 32ms/step - loss: 0.6633 - accuracy: 0.6567\n",
      "Train: 0.667, Test: 0.657\n"
     ]
    }
   ],
   "source": [
    "_, train_acc = model.evaluate(X_train, y_train_categorical, verbose=0)\n",
    "_, test_acc = model.evaluate(X_test, y_test, verbose=1)\n",
    "print('Train: %.3f, Test: %.3f' % (train_acc, test_acc))"
   ]
  },
  {
   "cell_type": "code",
   "execution_count": 82,
   "metadata": {},
   "outputs": [
    {
     "name": "stdout",
     "output_type": "stream",
     "text": [
      "3/3 [==============================] - 0s 63ms/step - loss: 0.6633 - accuracy: 0.6567\n",
      "Test set\n",
      "  Loss: 0.663\n",
      "  Accuracy: 0.657\n"
     ]
    }
   ],
   "source": [
    "accr = model.evaluate(X_test, y_test)\n",
    "print('Test set\\n  Loss: {:0.3f}\\n  Accuracy: {:0.3f}'.format(accr[0],accr[1]))"
   ]
  },
  {
   "cell_type": "code",
   "execution_count": 83,
   "metadata": {},
   "outputs": [],
   "source": [
    "from matplotlib import pyplot as plt"
   ]
  },
  {
   "cell_type": "code",
   "execution_count": 84,
   "metadata": {},
   "outputs": [
    {
     "data": {
      "image/png": "[encoded data removed]",
      "text/plain": [
       "<Figure size 640x480 with 1 Axes>"
      ]
     },
     "metadata": {},
     "output_type": "display_data"
    }
   ],
   "source": [
    "plt.title('Loss')\n",
    "plt.plot(history.history['loss'], label='train')\n",
    "plt.plot(history.history['val_loss'], label='validation')\n",
    "plt.legend()\n",
    "plt.show()"
   ]
  },
  {
   "cell_type": "code",
   "execution_count": 85,
   "metadata": {},
   "outputs": [
    {
     "data": {
      "image/png": "[encoded data removed]",
      "text/plain": [
       "<Figure size 640x480 with 1 Axes>"
      ]
     },
     "metadata": {},
     "output_type": "display_data"
    }
   ],
   "source": [
    "plt.title('Accuracy')\n",
    "plt.plot(history.history['accuracy'], label='train')\n",
    "plt.plot(history.history['val_accuracy'], label='validation')\n",
    "plt.legend()\n",
    "plt.show()"
   ]
  }
 ],
 "metadata": {
  "kernelspec": {
   "display_name": "tensorflow",
   "language": "python",
   "name": "python3"
  },
  "language_info": {
   "codemirror_mode": {
    "name": "ipython",
    "version": 3
   },
   "file_extension": ".py",
   "mimetype": "text/x-python",
   "name": "python",
   "nbconvert_exporter": "python",
   "pygments_lexer": "ipython3",
   "version": "3.8.18"
  }
 },
 "nbformat": 4,
 "nbformat_minor": 2
}
