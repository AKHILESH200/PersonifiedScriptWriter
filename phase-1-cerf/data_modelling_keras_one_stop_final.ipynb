{
  "cells": [
    {
      "cell_type": "code",
      "execution_count": 1,
      "id": "ZHnnUXBwo4pt",
      "metadata": {
        "colab": {
          "base_uri": "https://localhost:8080/"
        },
        "id": "ZHnnUXBwo4pt",
        "outputId": "d58f7b62-a42b-4d38-9966-c1f69c230128"
      },
      "outputs": [
        {
          "name": "stdout",
          "output_type": "stream",
          "text": [
            "Fri Mar  1 10:42:24 2024       \n",
            "+-----------------------------------------------------------------------------+\n",
            "| NVIDIA-SMI 512.78       Driver Version: 512.78       CUDA Version: 11.6     |\n",
            "|-------------------------------+----------------------+----------------------+\n",
            "| GPU  Name            TCC/WDDM | Bus-Id        Disp.A | Volatile Uncorr. ECC |\n",
            "| Fan  Temp  Perf  Pwr:Usage/Cap|         Memory-Usage | GPU-Util  Compute M. |\n",
            "|                               |                      |               MIG M. |\n",
            "|===============================+======================+======================|\n",
            "|   0  NVIDIA GeForce ... WDDM  | 00000000:01:00.0 Off |                  N/A |\n",
            "| N/A   39C    P0    10W /  N/A |      0MiB /  4096MiB |      0%      Default |\n",
            "|                               |                      |                  N/A |\n",
            "+-------------------------------+----------------------+----------------------+\n",
            "                                                                               \n",
            "+-----------------------------------------------------------------------------+\n",
            "| Processes:                                                                  |\n",
            "|  GPU   GI   CI        PID   Type   Process name                  GPU Memory |\n",
            "|        ID   ID                                                   Usage      |\n",
            "|=============================================================================|\n",
            "|  No running processes found                                                 |\n",
            "+-----------------------------------------------------------------------------+\n"
          ]
        }
      ],
      "source": [
        "gpu_info = !nvidia-smi\n",
        "gpu_info = '\\n'.join(gpu_info)\n",
        "if gpu_info.find('failed') >= 0:\n",
        "  print('Not connected to a GPU')\n",
        "else:\n",
        "  print(gpu_info)"
      ]
    },
    {
      "cell_type": "code",
      "execution_count": 2,
      "id": "L88MMhyB5sqV",
      "metadata": {
        "colab": {
          "base_uri": "https://localhost:8080/"
        },
        "id": "L88MMhyB5sqV",
        "outputId": "5afe0371-961f-4197-8fb7-da84c37df415"
      },
      "outputs": [
        {
          "name": "stdout",
          "output_type": "stream",
          "text": [
            "imported successfully\n"
          ]
        }
      ],
      "source": [
        "\n",
        "import pandas as pd\n",
        "import numpy as np\n",
        "import matplotlib.pyplot as plt\n",
        "\n",
        "import nltk\n",
        "#nltk.download('stopwords')\n",
        "#nltk.download('punkt')\n",
        "#nltk.download('wordnet')\n",
        "\n",
        "from nlp import preprocessing as pp\n",
        "# import cleaning_nlp as cc\n",
        "print(\"imported successfully\")"
      ]
    },
    {
      "cell_type": "code",
      "execution_count": 3,
      "id": "H1evx7h6Ydl5",
      "metadata": {
        "id": "H1evx7h6Ydl5"
      },
      "outputs": [],
      "source": [
        "path_train = 'data/one_stop_train.csv'\n",
        "path_test = 'data/one_stop_test.csv'\n",
        "df_train = pd.read_csv(path_train)\n",
        "df_test = pd.read_csv(path_test)\n"
      ]
    },
    {
      "cell_type": "code",
      "execution_count": 4,
      "id": "V6sF8jt65mOg",
      "metadata": {
        "colab": {
          "base_uri": "https://localhost:8080/",
          "height": 641
        },
        "id": "V6sF8jt65mOg",
        "outputId": "8c21366e-f10e-40b1-bf47-7cf0f51c39d3"
      },
      "outputs": [
        {
          "data": {
            "text/html": [
              "<div>\n",
              "<style scoped>\n",
              "    .dataframe tbody tr th:only-of-type {\n",
              "        vertical-align: middle;\n",
              "    }\n",
              "\n",
              "    .dataframe tbody tr th {\n",
              "        vertical-align: top;\n",
              "    }\n",
              "\n",
              "    .dataframe thead th {\n",
              "        text-align: right;\n",
              "    }\n",
              "</style>\n",
              "<table border=\"1\" class=\"dataframe\">\n",
              "  <thead>\n",
              "    <tr style=\"text-align: right;\">\n",
              "      <th></th>\n",
              "      <th>index</th>\n",
              "      <th>documents</th>\n",
              "      <th>doc_list</th>\n",
              "      <th>avg_num_words</th>\n",
              "      <th>total_num_sents</th>\n",
              "      <th>total_num_words</th>\n",
              "      <th>words_per_sents</th>\n",
              "      <th>level</th>\n",
              "      <th>doc_id</th>\n",
              "    </tr>\n",
              "  </thead>\n",
              "  <tbody>\n",
              "    <tr>\n",
              "      <th>0</th>\n",
              "      <td>0</td>\n",
              "      <td>SeaWorld's profits fell by 84% and customers a...</td>\n",
              "      <td>['SeaWorld’s profits fell by 84% and customers...</td>\n",
              "      <td>25.00</td>\n",
              "      <td>1</td>\n",
              "      <td>25</td>\n",
              "      <td>[25]</td>\n",
              "      <td>Ele</td>\n",
              "      <td>0</td>\n",
              "    </tr>\n",
              "    <tr>\n",
              "      <th>1</th>\n",
              "      <td>1</td>\n",
              "      <td>The company teaches dolphins and killer whales...</td>\n",
              "      <td>['The company teaches dolphins and killer whal...</td>\n",
              "      <td>17.00</td>\n",
              "      <td>1</td>\n",
              "      <td>17</td>\n",
              "      <td>[17]</td>\n",
              "      <td>Ele</td>\n",
              "      <td>0</td>\n",
              "    </tr>\n",
              "    <tr>\n",
              "      <th>2</th>\n",
              "      <td>2</td>\n",
              "      <td>It says fewer people are going to its parks an...</td>\n",
              "      <td>['It says fewer people are going to its parks ...</td>\n",
              "      <td>13.00</td>\n",
              "      <td>1</td>\n",
              "      <td>13</td>\n",
              "      <td>[13]</td>\n",
              "      <td>Ele</td>\n",
              "      <td>0</td>\n",
              "    </tr>\n",
              "    <tr>\n",
              "      <th>3</th>\n",
              "      <td>3</td>\n",
              "      <td>SeaWorld has been in the news since the 2013 d...</td>\n",
              "      <td>['SeaWorld has been in the news since the 2013...</td>\n",
              "      <td>33.00</td>\n",
              "      <td>1</td>\n",
              "      <td>33</td>\n",
              "      <td>[33]</td>\n",
              "      <td>Ele</td>\n",
              "      <td>0</td>\n",
              "    </tr>\n",
              "    <tr>\n",
              "      <th>4</th>\n",
              "      <td>4</td>\n",
              "      <td>Animal rights organizations say that orcas kep...</td>\n",
              "      <td>['Animal rights organizations say that orcas k...</td>\n",
              "      <td>14.00</td>\n",
              "      <td>2</td>\n",
              "      <td>28</td>\n",
              "      <td>[17, 11]</td>\n",
              "      <td>Ele</td>\n",
              "      <td>0</td>\n",
              "    </tr>\n",
              "    <tr>\n",
              "      <th>...</th>\n",
              "      <td>...</td>\n",
              "      <td>...</td>\n",
              "      <td>...</td>\n",
              "      <td>...</td>\n",
              "      <td>...</td>\n",
              "      <td>...</td>\n",
              "      <td>...</td>\n",
              "      <td>...</td>\n",
              "      <td>...</td>\n",
              "    </tr>\n",
              "    <tr>\n",
              "      <th>6545</th>\n",
              "      <td>7390</td>\n",
              "      <td>One major problem is complicity between senior...</td>\n",
              "      <td>['One major problem is complicity between seni...</td>\n",
              "      <td>26.00</td>\n",
              "      <td>3</td>\n",
              "      <td>78</td>\n",
              "      <td>[15, 32, 31]</td>\n",
              "      <td>Adv</td>\n",
              "      <td>566</td>\n",
              "    </tr>\n",
              "    <tr>\n",
              "      <th>6546</th>\n",
              "      <td>7391</td>\n",
              "      <td>As the number of tigers has increased over the...</td>\n",
              "      <td>['As the number of tigers has increased over t...</td>\n",
              "      <td>19.25</td>\n",
              "      <td>4</td>\n",
              "      <td>77</td>\n",
              "      <td>[17, 21, 14, 25]</td>\n",
              "      <td>Adv</td>\n",
              "      <td>566</td>\n",
              "    </tr>\n",
              "    <tr>\n",
              "      <th>6547</th>\n",
              "      <td>7392</td>\n",
              "      <td>Wildlife authorities captured a tiger in Chitw...</td>\n",
              "      <td>['Wildlife authorities captured a tiger in Chi...</td>\n",
              "      <td>19.00</td>\n",
              "      <td>4</td>\n",
              "      <td>76</td>\n",
              "      <td>[23, 12, 14, 27]</td>\n",
              "      <td>Adv</td>\n",
              "      <td>566</td>\n",
              "    </tr>\n",
              "    <tr>\n",
              "      <th>6548</th>\n",
              "      <td>7393</td>\n",
              "      <td>Diwakar Chapagain, who heads a World Wildlife ...</td>\n",
              "      <td>['Diwakar Chapagain, who heads a World Wildlif...</td>\n",
              "      <td>30.00</td>\n",
              "      <td>1</td>\n",
              "      <td>30</td>\n",
              "      <td>[30]</td>\n",
              "      <td>Adv</td>\n",
              "      <td>566</td>\n",
              "    </tr>\n",
              "    <tr>\n",
              "      <th>6549</th>\n",
              "      <td>7394</td>\n",
              "      <td>In Nepal, kings used to stand on tiger skins i...</td>\n",
              "      <td>['In Nepal, kings used to stand on tiger skins...</td>\n",
              "      <td>21.67</td>\n",
              "      <td>3</td>\n",
              "      <td>65</td>\n",
              "      <td>[17, 14, 34]</td>\n",
              "      <td>Adv</td>\n",
              "      <td>566</td>\n",
              "    </tr>\n",
              "  </tbody>\n",
              "</table>\n",
              "<p>6550 rows × 9 columns</p>\n",
              "</div>"
            ],
            "text/plain": [
              "      index                                          documents  \\\n",
              "0         0  SeaWorld's profits fell by 84% and customers a...   \n",
              "1         1  The company teaches dolphins and killer whales...   \n",
              "2         2  It says fewer people are going to its parks an...   \n",
              "3         3  SeaWorld has been in the news since the 2013 d...   \n",
              "4         4  Animal rights organizations say that orcas kep...   \n",
              "...     ...                                                ...   \n",
              "6545   7390  One major problem is complicity between senior...   \n",
              "6546   7391  As the number of tigers has increased over the...   \n",
              "6547   7392  Wildlife authorities captured a tiger in Chitw...   \n",
              "6548   7393  Diwakar Chapagain, who heads a World Wildlife ...   \n",
              "6549   7394  In Nepal, kings used to stand on tiger skins i...   \n",
              "\n",
              "                                               doc_list  avg_num_words  \\\n",
              "0     ['SeaWorld’s profits fell by 84% and customers...          25.00   \n",
              "1     ['The company teaches dolphins and killer whal...          17.00   \n",
              "2     ['It says fewer people are going to its parks ...          13.00   \n",
              "3     ['SeaWorld has been in the news since the 2013...          33.00   \n",
              "4     ['Animal rights organizations say that orcas k...          14.00   \n",
              "...                                                 ...            ...   \n",
              "6545  ['One major problem is complicity between seni...          26.00   \n",
              "6546  ['As the number of tigers has increased over t...          19.25   \n",
              "6547  ['Wildlife authorities captured a tiger in Chi...          19.00   \n",
              "6548  ['Diwakar Chapagain, who heads a World Wildlif...          30.00   \n",
              "6549  ['In Nepal, kings used to stand on tiger skins...          21.67   \n",
              "\n",
              "      total_num_sents  total_num_words   words_per_sents level  doc_id  \n",
              "0                   1               25              [25]   Ele       0  \n",
              "1                   1               17              [17]   Ele       0  \n",
              "2                   1               13              [13]   Ele       0  \n",
              "3                   1               33              [33]   Ele       0  \n",
              "4                   2               28          [17, 11]   Ele       0  \n",
              "...               ...              ...               ...   ...     ...  \n",
              "6545                3               78      [15, 32, 31]   Adv     566  \n",
              "6546                4               77  [17, 21, 14, 25]   Adv     566  \n",
              "6547                4               76  [23, 12, 14, 27]   Adv     566  \n",
              "6548                1               30              [30]   Adv     566  \n",
              "6549                3               65      [17, 14, 34]   Adv     566  \n",
              "\n",
              "[6550 rows x 9 columns]"
            ]
          },
          "execution_count": 4,
          "metadata": {},
          "output_type": "execute_result"
        }
      ],
      "source": [
        "df_train"
      ]
    },
    {
      "cell_type": "code",
      "execution_count": 5,
      "id": "vYeU3yaVZu5D",
      "metadata": {
        "id": "vYeU3yaVZu5D"
      },
      "outputs": [],
      "source": [
        "d_train = df_train[['documents', 'level']]\n",
        "d_test = df_test[['documents', 'level']]"
      ]
    },
    {
      "cell_type": "code",
      "execution_count": 6,
      "id": "xpsaWX9UZuk2",
      "metadata": {
        "colab": {
          "base_uri": "https://localhost:8080/"
        },
        "id": "xpsaWX9UZuk2",
        "outputId": "ae564597-6dee-4595-fae4-0c5fe1ab52ec"
      },
      "outputs": [
        {
          "data": {
            "text/plain": [
              "((6550, 2), (845, 2))"
            ]
          },
          "execution_count": 6,
          "metadata": {},
          "output_type": "execute_result"
        }
      ],
      "source": [
        "d_train.shape, d_test.shape"
      ]
    },
    {
      "cell_type": "code",
      "execution_count": 7,
      "id": "cbe98124-2d3e-4bd7-aa59-cdba45caed66",
      "metadata": {
        "id": "cbe98124-2d3e-4bd7-aa59-cdba45caed66"
      },
      "outputs": [],
      "source": [
        "sentence_data_train = pp.get_sentences_dataframe(d_train, 'documents', 'level')\n",
        "sentence_data_test = pp.get_sentences_dataframe(d_test, 'documents', 'level')"
      ]
    },
    {
      "cell_type": "code",
      "execution_count": 8,
      "id": "d039fbd7-fcf7-4b31-a87d-068b05be3bda",
      "metadata": {
        "id": "d039fbd7-fcf7-4b31-a87d-068b05be3bda"
      },
      "outputs": [],
      "source": [
        "df_processed_train = pp.preprocess_all(sentence_data_train, 'documents', stop_words=True)\n",
        "df_processed_test = pp.preprocess_all(sentence_data_test, 'documents', stop_words=True)"
      ]
    },
    {
      "cell_type": "code",
      "execution_count": 9,
      "id": "Vt1uoqEBbopl",
      "metadata": {
        "colab": {
          "base_uri": "https://localhost:8080/",
          "height": 641
        },
        "id": "Vt1uoqEBbopl",
        "outputId": "0fc1f1c5-c637-4794-cd7b-b28f125995e0"
      },
      "outputs": [
        {
          "data": {
            "text/html": [
              "<div>\n",
              "<style scoped>\n",
              "    .dataframe tbody tr th:only-of-type {\n",
              "        vertical-align: middle;\n",
              "    }\n",
              "\n",
              "    .dataframe tbody tr th {\n",
              "        vertical-align: top;\n",
              "    }\n",
              "\n",
              "    .dataframe thead th {\n",
              "        text-align: right;\n",
              "    }\n",
              "</style>\n",
              "<table border=\"1\" class=\"dataframe\">\n",
              "  <thead>\n",
              "    <tr style=\"text-align: right;\">\n",
              "      <th></th>\n",
              "      <th>documents</th>\n",
              "      <th>num_of_words</th>\n",
              "      <th>level</th>\n",
              "      <th>doc_id</th>\n",
              "      <th>documents_clean</th>\n",
              "      <th>Lemmatized</th>\n",
              "      <th>Stemmed</th>\n",
              "    </tr>\n",
              "  </thead>\n",
              "  <tbody>\n",
              "    <tr>\n",
              "      <th>0</th>\n",
              "      <td>SeaWorld's profits fell by 84% and customers a...</td>\n",
              "      <td>25</td>\n",
              "      <td>Ele</td>\n",
              "      <td>0</td>\n",
              "      <td>profits fell customers staying away water them...</td>\n",
              "      <td>profit fell customer staying away water theme ...</td>\n",
              "      <td>profit fell custom stay away water theme park ...</td>\n",
              "    </tr>\n",
              "    <tr>\n",
              "      <th>1</th>\n",
              "      <td>The company teaches dolphins and killer whales...</td>\n",
              "      <td>17</td>\n",
              "      <td>Ele</td>\n",
              "      <td>1</td>\n",
              "      <td>company teaches dolphins killer whales tricks ...</td>\n",
              "      <td>company teach dolphin killer whale trick front...</td>\n",
              "      <td>compani teach dolphin killer whale trick front...</td>\n",
              "    </tr>\n",
              "    <tr>\n",
              "      <th>2</th>\n",
              "      <td>It says fewer people are going to its parks an...</td>\n",
              "      <td>13</td>\n",
              "      <td>Ele</td>\n",
              "      <td>2</td>\n",
              "      <td>says fewer people going parks profits reduced</td>\n",
              "      <td>say fewer people going park profit reduced</td>\n",
              "      <td>say fewer peopl go park profit reduc</td>\n",
              "    </tr>\n",
              "    <tr>\n",
              "      <th>3</th>\n",
              "      <td>SeaWorld has been in the news since the 2013 d...</td>\n",
              "      <td>33</td>\n",
              "      <td>Ele</td>\n",
              "      <td>3</td>\n",
              "      <td>seaworld news since thedocumentary film blackf...</td>\n",
              "      <td>seaworld news since thedocumentary film blackf...</td>\n",
              "      <td>seaworld news sinc thedocumentari film blackfi...</td>\n",
              "    </tr>\n",
              "    <tr>\n",
              "      <th>4</th>\n",
              "      <td>Animal rights organizations say that orcas kep...</td>\n",
              "      <td>17</td>\n",
              "      <td>Ele</td>\n",
              "      <td>4</td>\n",
              "      <td>animal rights organizations say orcas kept tan...</td>\n",
              "      <td>animal right organization say orca kept tank d...</td>\n",
              "      <td>anim right organ say orca kept tank die younge...</td>\n",
              "    </tr>\n",
              "    <tr>\n",
              "      <th>...</th>\n",
              "      <td>...</td>\n",
              "      <td>...</td>\n",
              "      <td>...</td>\n",
              "      <td>...</td>\n",
              "      <td>...</td>\n",
              "      <td>...</td>\n",
              "      <td>...</td>\n",
              "    </tr>\n",
              "    <tr>\n",
              "      <th>17718</th>\n",
              "      <td>Chitwan National Park in central Nepal has the...</td>\n",
              "      <td>27</td>\n",
              "      <td>Adv</td>\n",
              "      <td>6547</td>\n",
              "      <td>chitwan national park central nepal highest nu...</td>\n",
              "      <td>chitwan national park central nepal highest nu...</td>\n",
              "      <td>chitwan nation park central nepal highest numb...</td>\n",
              "    </tr>\n",
              "    <tr>\n",
              "      <th>17719</th>\n",
              "      <td>Diwakar Chapagain, who heads a World Wildlife ...</td>\n",
              "      <td>30</td>\n",
              "      <td>Adv</td>\n",
              "      <td>6548</td>\n",
              "      <td>diwakar chapagain heads world wildlife fund ne...</td>\n",
              "      <td>diwakar chapagain head world wildlife fund nep...</td>\n",
              "      <td>diwakar chapagain head world wildlif fund nepa...</td>\n",
              "    </tr>\n",
              "    <tr>\n",
              "      <th>17720</th>\n",
              "      <td>In Nepal, kings used to stand on tiger skins i...</td>\n",
              "      <td>17</td>\n",
              "      <td>Adv</td>\n",
              "      <td>6549</td>\n",
              "      <td>nepal kings used stand tiger skins front stuff...</td>\n",
              "      <td>nepal king used stand tiger skin front stuffed...</td>\n",
              "      <td>nepal king use stand tiger skin front stuf tig...</td>\n",
              "    </tr>\n",
              "    <tr>\n",
              "      <th>17721</th>\n",
              "      <td>Some affluent Nepali have mounted tiger heads ...</td>\n",
              "      <td>14</td>\n",
              "      <td>Adv</td>\n",
              "      <td>6549</td>\n",
              "      <td>affluent nepali mounted tiger heads walls livi...</td>\n",
              "      <td>affluent nepali mounted tiger head wall living...</td>\n",
              "      <td>affluent nepali mount tiger head wall live room</td>\n",
              "    </tr>\n",
              "    <tr>\n",
              "      <th>17722</th>\n",
              "      <td>Tiger bones are in high demand for use in trad...</td>\n",
              "      <td>34</td>\n",
              "      <td>Adv</td>\n",
              "      <td>6549</td>\n",
              "      <td>tiger bones high demand use traditional chines...</td>\n",
              "      <td>tiger bone high demand use traditional chinese...</td>\n",
              "      <td>tiger bone high demand use tradit chines trade...</td>\n",
              "    </tr>\n",
              "  </tbody>\n",
              "</table>\n",
              "<p>17723 rows × 7 columns</p>\n",
              "</div>"
            ],
            "text/plain": [
              "                                               documents  num_of_words level  \\\n",
              "0      SeaWorld's profits fell by 84% and customers a...            25   Ele   \n",
              "1      The company teaches dolphins and killer whales...            17   Ele   \n",
              "2      It says fewer people are going to its parks an...            13   Ele   \n",
              "3      SeaWorld has been in the news since the 2013 d...            33   Ele   \n",
              "4      Animal rights organizations say that orcas kep...            17   Ele   \n",
              "...                                                  ...           ...   ...   \n",
              "17718  Chitwan National Park in central Nepal has the...            27   Adv   \n",
              "17719  Diwakar Chapagain, who heads a World Wildlife ...            30   Adv   \n",
              "17720  In Nepal, kings used to stand on tiger skins i...            17   Adv   \n",
              "17721  Some affluent Nepali have mounted tiger heads ...            14   Adv   \n",
              "17722  Tiger bones are in high demand for use in trad...            34   Adv   \n",
              "\n",
              "       doc_id                                    documents_clean  \\\n",
              "0           0  profits fell customers staying away water them...   \n",
              "1           1  company teaches dolphins killer whales tricks ...   \n",
              "2           2      says fewer people going parks profits reduced   \n",
              "3           3  seaworld news since thedocumentary film blackf...   \n",
              "4           4  animal rights organizations say orcas kept tan...   \n",
              "...       ...                                                ...   \n",
              "17718    6547  chitwan national park central nepal highest nu...   \n",
              "17719    6548  diwakar chapagain heads world wildlife fund ne...   \n",
              "17720    6549  nepal kings used stand tiger skins front stuff...   \n",
              "17721    6549  affluent nepali mounted tiger heads walls livi...   \n",
              "17722    6549  tiger bones high demand use traditional chines...   \n",
              "\n",
              "                                              Lemmatized  \\\n",
              "0      profit fell customer staying away water theme ...   \n",
              "1      company teach dolphin killer whale trick front...   \n",
              "2             say fewer people going park profit reduced   \n",
              "3      seaworld news since thedocumentary film blackf...   \n",
              "4      animal right organization say orca kept tank d...   \n",
              "...                                                  ...   \n",
              "17718  chitwan national park central nepal highest nu...   \n",
              "17719  diwakar chapagain head world wildlife fund nep...   \n",
              "17720  nepal king used stand tiger skin front stuffed...   \n",
              "17721  affluent nepali mounted tiger head wall living...   \n",
              "17722  tiger bone high demand use traditional chinese...   \n",
              "\n",
              "                                                 Stemmed  \n",
              "0      profit fell custom stay away water theme park ...  \n",
              "1      compani teach dolphin killer whale trick front...  \n",
              "2                   say fewer peopl go park profit reduc  \n",
              "3      seaworld news sinc thedocumentari film blackfi...  \n",
              "4      anim right organ say orca kept tank die younge...  \n",
              "...                                                  ...  \n",
              "17718  chitwan nation park central nepal highest numb...  \n",
              "17719  diwakar chapagain head world wildlif fund nepa...  \n",
              "17720  nepal king use stand tiger skin front stuf tig...  \n",
              "17721    affluent nepali mount tiger head wall live room  \n",
              "17722  tiger bone high demand use tradit chines trade...  \n",
              "\n",
              "[17723 rows x 7 columns]"
            ]
          },
          "execution_count": 9,
          "metadata": {},
          "output_type": "execute_result"
        }
      ],
      "source": [
        "df_processed_train"
      ]
    },
    {
      "cell_type": "code",
      "execution_count": 10,
      "id": "1fff2713",
      "metadata": {},
      "outputs": [
        {
          "data": {
            "text/html": [
              "<div>\n",
              "<style scoped>\n",
              "    .dataframe tbody tr th:only-of-type {\n",
              "        vertical-align: middle;\n",
              "    }\n",
              "\n",
              "    .dataframe tbody tr th {\n",
              "        vertical-align: top;\n",
              "    }\n",
              "\n",
              "    .dataframe thead th {\n",
              "        text-align: right;\n",
              "    }\n",
              "</style>\n",
              "<table border=\"1\" class=\"dataframe\">\n",
              "  <thead>\n",
              "    <tr style=\"text-align: right;\">\n",
              "      <th></th>\n",
              "      <th>documents</th>\n",
              "      <th>num_of_words</th>\n",
              "      <th>level</th>\n",
              "      <th>doc_id</th>\n",
              "      <th>documents_clean</th>\n",
              "      <th>Lemmatized</th>\n",
              "      <th>Stemmed</th>\n",
              "    </tr>\n",
              "  </thead>\n",
              "  <tbody>\n",
              "    <tr>\n",
              "      <th>0</th>\n",
              "      <td>Police and intelligence agencies around the wo...</td>\n",
              "      <td>24</td>\n",
              "      <td>Ele</td>\n",
              "      <td>0</td>\n",
              "      <td>police intelligence agencies around world almo...</td>\n",
              "      <td>police intelligence agency around world almost...</td>\n",
              "      <td>polic intellig agenc around world almostyear u...</td>\n",
              "    </tr>\n",
              "    <tr>\n",
              "      <th>1</th>\n",
              "      <td>But, now, researchers in Britain and the Nethe...</td>\n",
              "      <td>23</td>\n",
              "      <td>Ele</td>\n",
              "      <td>1</td>\n",
              "      <td>researchers britain netherlands developed new ...</td>\n",
              "      <td>researcher britain netherlands developed new m...</td>\n",
              "      <td>research britain netherland develop new method...</td>\n",
              "    </tr>\n",
              "    <tr>\n",
              "      <th>2</th>\n",
              "      <td>Police stations around the world might begin u...</td>\n",
              "      <td>14</td>\n",
              "      <td>Ele</td>\n",
              "      <td>1</td>\n",
              "      <td>police stations around world might begin using...</td>\n",
              "      <td>police station around world might begin using ...</td>\n",
              "      <td>polic station around world might begin use new...</td>\n",
              "    </tr>\n",
              "    <tr>\n",
              "      <th>3</th>\n",
              "      <td>It doesn't monitor movements in the face, talk...</td>\n",
              "      <td>20</td>\n",
              "      <td>Ele</td>\n",
              "      <td>1</td>\n",
              "      <td>monitor movements face talking much waving arm...</td>\n",
              "      <td>monitor movement face talking much waving arm ...</td>\n",
              "      <td>monitor movement face talk much wave arm sign ...</td>\n",
              "    </tr>\n",
              "    <tr>\n",
              "      <th>4</th>\n",
              "      <td>The new method monitors movements in the whole...</td>\n",
              "      <td>18</td>\n",
              "      <td>Ele</td>\n",
              "      <td>1</td>\n",
              "      <td>new method monitors movements whole body show ...</td>\n",
              "      <td>new method monitor movement whole body show pe...</td>\n",
              "      <td>new method monitor movement whole bodi show pe...</td>\n",
              "    </tr>\n",
              "    <tr>\n",
              "      <th>...</th>\n",
              "      <td>...</td>\n",
              "      <td>...</td>\n",
              "      <td>...</td>\n",
              "      <td>...</td>\n",
              "      <td>...</td>\n",
              "      <td>...</td>\n",
              "      <td>...</td>\n",
              "    </tr>\n",
              "    <tr>\n",
              "      <th>2230</th>\n",
              "      <td>If this whole thing is giving you the heebie-j...</td>\n",
              "      <td>41</td>\n",
              "      <td>Adv</td>\n",
              "      <td>843</td>\n",
              "      <td>whole thing giving recall last time cheek jowl...</td>\n",
              "      <td>whole thing giving recall last time cheek jowl...</td>\n",
              "      <td>whole thing give recal last time cheek jowl ev...</td>\n",
              "    </tr>\n",
              "    <tr>\n",
              "      <th>2231</th>\n",
              "      <td>Many cleansing- reduction enthusiasts still us...</td>\n",
              "      <td>50</td>\n",
              "      <td>Adv</td>\n",
              "      <td>843</td>\n",
              "      <td>many cleansing reduction enthusiasts still use...</td>\n",
              "      <td>many cleansing reduction enthusiast still use ...</td>\n",
              "      <td>mani cleans reduct enthusiast still use deodor...</td>\n",
              "    </tr>\n",
              "    <tr>\n",
              "      <th>2232</th>\n",
              "      <td>You don't need to go cold turkey, as Hamblin d...</td>\n",
              "      <td>29</td>\n",
              "      <td>Adv</td>\n",
              "      <td>844</td>\n",
              "      <td>need go cold turkey hamblin disinfecting sessi...</td>\n",
              "      <td>need go cold turkey hamblin disinfecting sessi...</td>\n",
              "      <td>need go cold turkey hamblin disinfect session ...</td>\n",
              "    </tr>\n",
              "    <tr>\n",
              "      <th>2233</th>\n",
              "      <td>Reduce.</td>\n",
              "      <td>1</td>\n",
              "      <td>Adv</td>\n",
              "      <td>844</td>\n",
              "      <td>reduce</td>\n",
              "      <td>reduce</td>\n",
              "      <td>reduc</td>\n",
              "    </tr>\n",
              "    <tr>\n",
              "      <th>2234</th>\n",
              "      <td>Skip a few showers, put down the soap and let ...</td>\n",
              "      <td>19</td>\n",
              "      <td>Adv</td>\n",
              "      <td>844</td>\n",
              "      <td>skip showers put soap let lovely little bacter...</td>\n",
              "      <td>skip shower put soap let lovely little bacteri...</td>\n",
              "      <td>skip shower put soap let love littl bacteria f...</td>\n",
              "    </tr>\n",
              "  </tbody>\n",
              "</table>\n",
              "<p>2235 rows × 7 columns</p>\n",
              "</div>"
            ],
            "text/plain": [
              "                                              documents  num_of_words level  \\\n",
              "0     Police and intelligence agencies around the wo...            24   Ele   \n",
              "1     But, now, researchers in Britain and the Nethe...            23   Ele   \n",
              "2     Police stations around the world might begin u...            14   Ele   \n",
              "3     It doesn't monitor movements in the face, talk...            20   Ele   \n",
              "4     The new method monitors movements in the whole...            18   Ele   \n",
              "...                                                 ...           ...   ...   \n",
              "2230  If this whole thing is giving you the heebie-j...            41   Adv   \n",
              "2231  Many cleansing- reduction enthusiasts still us...            50   Adv   \n",
              "2232  You don't need to go cold turkey, as Hamblin d...            29   Adv   \n",
              "2233                                            Reduce.             1   Adv   \n",
              "2234  Skip a few showers, put down the soap and let ...            19   Adv   \n",
              "\n",
              "      doc_id                                    documents_clean  \\\n",
              "0          0  police intelligence agencies around world almo...   \n",
              "1          1  researchers britain netherlands developed new ...   \n",
              "2          1  police stations around world might begin using...   \n",
              "3          1  monitor movements face talking much waving arm...   \n",
              "4          1  new method monitors movements whole body show ...   \n",
              "...      ...                                                ...   \n",
              "2230     843  whole thing giving recall last time cheek jowl...   \n",
              "2231     843  many cleansing reduction enthusiasts still use...   \n",
              "2232     844  need go cold turkey hamblin disinfecting sessi...   \n",
              "2233     844                                             reduce   \n",
              "2234     844  skip showers put soap let lovely little bacter...   \n",
              "\n",
              "                                             Lemmatized  \\\n",
              "0     police intelligence agency around world almost...   \n",
              "1     researcher britain netherlands developed new m...   \n",
              "2     police station around world might begin using ...   \n",
              "3     monitor movement face talking much waving arm ...   \n",
              "4     new method monitor movement whole body show pe...   \n",
              "...                                                 ...   \n",
              "2230  whole thing giving recall last time cheek jowl...   \n",
              "2231  many cleansing reduction enthusiast still use ...   \n",
              "2232  need go cold turkey hamblin disinfecting sessi...   \n",
              "2233                                             reduce   \n",
              "2234  skip shower put soap let lovely little bacteri...   \n",
              "\n",
              "                                                Stemmed  \n",
              "0     polic intellig agenc around world almostyear u...  \n",
              "1     research britain netherland develop new method...  \n",
              "2     polic station around world might begin use new...  \n",
              "3     monitor movement face talk much wave arm sign ...  \n",
              "4     new method monitor movement whole bodi show pe...  \n",
              "...                                                 ...  \n",
              "2230  whole thing give recal last time cheek jowl ev...  \n",
              "2231  mani cleans reduct enthusiast still use deodor...  \n",
              "2232  need go cold turkey hamblin disinfect session ...  \n",
              "2233                                              reduc  \n",
              "2234  skip shower put soap let love littl bacteria f...  \n",
              "\n",
              "[2235 rows x 7 columns]"
            ]
          },
          "execution_count": 10,
          "metadata": {},
          "output_type": "execute_result"
        }
      ],
      "source": [
        "df_processed_test"
      ]
    },
    {
      "cell_type": "code",
      "execution_count": 11,
      "id": "d4a99aa3",
      "metadata": {},
      "outputs": [
        {
          "data": {
            "text/plain": [
              "Adv    6431\n",
              "Int    6109\n",
              "Ele    5183\n",
              "Name: level, dtype: int64"
            ]
          },
          "execution_count": 11,
          "metadata": {},
          "output_type": "execute_result"
        }
      ],
      "source": [
        "df_processed_train.level.value_counts()"
      ]
    },
    {
      "cell_type": "code",
      "execution_count": 12,
      "id": "4203cb23-f1bb-45e4-a94a-d50b2f9cd26c",
      "metadata": {
        "id": "4203cb23-f1bb-45e4-a94a-d50b2f9cd26c"
      },
      "outputs": [],
      "source": [
        "data_train = df_processed_train[['Lemmatized', 'level']]\n",
        "data_test = df_processed_test[['Lemmatized', 'level']]"
      ]
    },
    {
      "cell_type": "code",
      "execution_count": 13,
      "id": "ibgEDaHRjIyu",
      "metadata": {
        "colab": {
          "base_uri": "https://localhost:8080/"
        },
        "id": "ibgEDaHRjIyu",
        "outputId": "a77bdc01-c124-4bdd-d238-093fface52f8"
      },
      "outputs": [
        {
          "data": {
            "text/plain": [
              "88"
            ]
          },
          "execution_count": 13,
          "metadata": {},
          "output_type": "execute_result"
        }
      ],
      "source": [
        "r = max(data_train.Lemmatized.values.tolist())\n",
        "len(r)"
      ]
    },
    {
      "cell_type": "code",
      "execution_count": 14,
      "id": "hYAuvGEQ5G57",
      "metadata": {
        "id": "hYAuvGEQ5G57"
      },
      "outputs": [],
      "source": [
        "s = [sen for sen in data_train.Lemmatized.values.tolist()]\n"
      ]
    },
    {
      "cell_type": "code",
      "execution_count": 15,
      "id": "0zeincFi2-ri",
      "metadata": {
        "colab": {
          "base_uri": "https://localhost:8080/"
        },
        "id": "0zeincFi2-ri",
        "outputId": "0b050c75-d64d-404a-d1b5-8d7781fdb19c"
      },
      "outputs": [
        {
          "data": {
            "text/plain": [
              "40"
            ]
          },
          "execution_count": 15,
          "metadata": {},
          "output_type": "execute_result"
        }
      ],
      "source": [
        "ws = [words for sen in data_train.Lemmatized.values.tolist() for words in sen.split()]\n",
        "wl = [len(word) for word in ws]\n",
        "max(wl)"
      ]
    },
    {
      "cell_type": "code",
      "execution_count": 16,
      "id": "1b6ba25a-7847-48fe-b40f-b1f04031387f",
      "metadata": {
        "colab": {
          "base_uri": "https://localhost:8080/"
        },
        "id": "1b6ba25a-7847-48fe-b40f-b1f04031387f",
        "outputId": "baa2a20a-9355-4007-f13b-218f008f7a7e"
      },
      "outputs": [
        {
          "data": {
            "text/plain": [
              "9.865203408000903"
            ]
          },
          "execution_count": 16,
          "metadata": {},
          "output_type": "execute_result"
        }
      ],
      "source": [
        "# df\n",
        "sl = [len(sen.split()) for sen in data_train.Lemmatized.values.tolist()]\n",
        "sum(s for s in sl)/len(sl)"
      ]
    },
    {
      "cell_type": "code",
      "execution_count": 17,
      "id": "VDKBwppF-akz",
      "metadata": {
        "id": "VDKBwppF-akz"
      },
      "outputs": [],
      "source": [
        "# sorted(sl)[::-1]"
      ]
    },
    {
      "cell_type": "code",
      "execution_count": 18,
      "id": "XQHQOyn3SuX5",
      "metadata": {
        "id": "XQHQOyn3SuX5"
      },
      "outputs": [],
      "source": [
        "w = [word for words in data_train.Lemmatized.values.tolist() for word in words.split() ]"
      ]
    },
    {
      "cell_type": "code",
      "execution_count": 19,
      "id": "GWURiMcZTfBs",
      "metadata": {
        "colab": {
          "base_uri": "https://localhost:8080/"
        },
        "id": "GWURiMcZTfBs",
        "outputId": "9b2d3d94-cfba-46e8-8bdd-19159c6a05ae"
      },
      "outputs": [
        {
          "data": {
            "text/plain": [
              "13694"
            ]
          },
          "execution_count": 19,
          "metadata": {},
          "output_type": "execute_result"
        }
      ],
      "source": [
        "len(set(w))"
      ]
    },
    {
      "cell_type": "code",
      "execution_count": 20,
      "id": "uHLKljJrgRVy",
      "metadata": {
        "colab": {
          "base_uri": "https://localhost:8080/"
        },
        "id": "uHLKljJrgRVy",
        "outputId": "76fdb3f0-d906-4775-b4c7-862336b9107f"
      },
      "outputs": [
        {
          "name": "stderr",
          "output_type": "stream",
          "text": [
            "C:\\Users\\ravis\\AppData\\Local\\Temp\\ipykernel_11012\\3915287228.py:9: SettingWithCopyWarning: \n",
            "A value is trying to be set on a copy of a slice from a DataFrame.\n",
            "Try using .loc[row_indexer,col_indexer] = value instead\n",
            "\n",
            "See the caveats in the documentation: https://pandas.pydata.org/pandas-docs/stable/user_guide/indexing.html#returning-a-view-versus-a-copy\n",
            "  data_train['level'] = y_integers\n",
            "C:\\Users\\ravis\\AppData\\Local\\Temp\\ipykernel_11012\\3915287228.py:19: SettingWithCopyWarning: \n",
            "A value is trying to be set on a copy of a slice from a DataFrame.\n",
            "Try using .loc[row_indexer,col_indexer] = value instead\n",
            "\n",
            "See the caveats in the documentation: https://pandas.pydata.org/pandas-docs/stable/user_guide/indexing.html#returning-a-view-versus-a-copy\n",
            "  data_test['level'] = y_integers\n"
          ]
        }
      ],
      "source": [
        "y_integers = []\n",
        "for level in data_train.level:\n",
        "  if level == 'Ele':\n",
        "    y_integers.append(0)\n",
        "  elif level == 'Int':\n",
        "    y_integers.append(1)\n",
        "  else:\n",
        "    y_integers.append(2)\n",
        "data_train['level'] = y_integers\n",
        "\n",
        "y_integers = []\n",
        "for level in data_test.level:\n",
        "  if level == 'Ele':\n",
        "    y_integers.append(0)\n",
        "  elif level == 'Int':\n",
        "    y_integers.append(1)\n",
        "  else:\n",
        "    y_integers.append(2)\n",
        "data_test['level'] = y_integers"
      ]
    },
    {
      "cell_type": "code",
      "execution_count": 21,
      "id": "mxiqxbVQgziD",
      "metadata": {
        "colab": {
          "base_uri": "https://localhost:8080/",
          "height": 175
        },
        "id": "mxiqxbVQgziD",
        "outputId": "82a4cb65-4e0b-44bd-fc9e-ca72ed830348"
      },
      "outputs": [
        {
          "data": {
            "text/html": [
              "<div>\n",
              "<style scoped>\n",
              "    .dataframe tbody tr th:only-of-type {\n",
              "        vertical-align: middle;\n",
              "    }\n",
              "\n",
              "    .dataframe tbody tr th {\n",
              "        vertical-align: top;\n",
              "    }\n",
              "\n",
              "    .dataframe thead th {\n",
              "        text-align: right;\n",
              "    }\n",
              "</style>\n",
              "<table border=\"1\" class=\"dataframe\">\n",
              "  <thead>\n",
              "    <tr style=\"text-align: right;\">\n",
              "      <th></th>\n",
              "      <th>Lemmatized</th>\n",
              "    </tr>\n",
              "    <tr>\n",
              "      <th>level</th>\n",
              "      <th></th>\n",
              "    </tr>\n",
              "  </thead>\n",
              "  <tbody>\n",
              "    <tr>\n",
              "      <th>0</th>\n",
              "      <td>5183</td>\n",
              "    </tr>\n",
              "    <tr>\n",
              "      <th>1</th>\n",
              "      <td>6109</td>\n",
              "    </tr>\n",
              "    <tr>\n",
              "      <th>2</th>\n",
              "      <td>6431</td>\n",
              "    </tr>\n",
              "  </tbody>\n",
              "</table>\n",
              "</div>"
            ],
            "text/plain": [
              "       Lemmatized\n",
              "level            \n",
              "0            5183\n",
              "1            6109\n",
              "2            6431"
            ]
          },
          "execution_count": 21,
          "metadata": {},
          "output_type": "execute_result"
        }
      ],
      "source": [
        "data_train.groupby('level').count()"
      ]
    },
    {
      "cell_type": "code",
      "execution_count": 22,
      "id": "cd648ab2-485c-48a4-9107-0bbf46e4bdc3",
      "metadata": {
        "id": "cd648ab2-485c-48a4-9107-0bbf46e4bdc3"
      },
      "outputs": [],
      "source": [
        "import tensorflow as tf\n",
        "from tensorflow.python import keras\n",
        "from tensorflow.keras import preprocessing\n",
        "from tensorflow.keras.preprocessing.text import Tokenizer\n",
        "from tensorflow.keras.preprocessing.sequence import pad_sequences\n",
        "from tensorflow.keras.utils import to_categorical\n",
        "from tensorflow.keras.models import Sequential\n",
        "from tensorflow.keras.callbacks import EarlyStopping\n",
        "from tensorflow.keras.layers import Dense, Dropout, SpatialDropout1D, LSTM, Reshape, Embedding, TextVectorization,Bidirectional"
      ]
    },
    {
      "cell_type": "code",
      "execution_count": 23,
      "id": "20327059-5ca7-410d-9bbe-24ad19274efb",
      "metadata": {
        "colab": {
          "base_uri": "https://localhost:8080/"
        },
        "id": "20327059-5ca7-410d-9bbe-24ad19274efb",
        "outputId": "f7b0fbfe-95f2-4aff-bee6-1732e6ae19a6"
      },
      "outputs": [
        {
          "name": "stdout",
          "output_type": "stream",
          "text": [
            "Found 13694 unique tokens.\n"
          ]
        }
      ],
      "source": [
        "# The maximum number of words to be used. (most frequent)\n",
        "MAX_NB_WORDS = 10000\n",
        "# Max number of words in each sentence.\n",
        "MAX_SEQUENCE_LENGTH = 40\n",
        "# This is fixed for LSTM layer.\n",
        "EMBEDDING_DIM = 100\n",
        "tokenizer = Tokenizer(num_words=MAX_NB_WORDS, filters='!\"#$%&()*+,-./:;<=>?@[\\]^_`{|}~', lower=True)\n",
        "tokenizer.fit_on_texts(data_train['Lemmatized'].values)\n",
        "word_index = tokenizer.word_index\n",
        "print('Found %s unique tokens.' % len(word_index))"
      ]
    },
    {
      "cell_type": "code",
      "execution_count": 24,
      "id": "b2d0c424-4c4e-44a8-adcb-24e76c9bc373",
      "metadata": {
        "colab": {
          "base_uri": "https://localhost:8080/"
        },
        "id": "b2d0c424-4c4e-44a8-adcb-24e76c9bc373",
        "outputId": "f08c225b-521a-45e5-ff04-fee5ccc90809"
      },
      "outputs": [
        {
          "name": "stdout",
          "output_type": "stream",
          "text": [
            "Shape of data tensor: (17723, 40)\n"
          ]
        }
      ],
      "source": [
        "X = tokenizer.texts_to_sequences(data_train['Lemmatized'].values)\n",
        "X = pad_sequences(X, maxlen=MAX_SEQUENCE_LENGTH)\n",
        "print('Shape of data tensor:', X.shape)"
      ]
    },
    {
      "cell_type": "code",
      "execution_count": 25,
      "id": "0co5uyir85Cc",
      "metadata": {
        "id": "0co5uyir85Cc"
      },
      "outputs": [],
      "source": [
        "X_test = tokenizer.texts_to_sequences(data_test['Lemmatized'].values)\n",
        "X_test = pad_sequences(X_test, maxlen=MAX_SEQUENCE_LENGTH)\n"
      ]
    },
    {
      "cell_type": "code",
      "execution_count": 26,
      "id": "301807cd-27e0-4f41-9fac-b8083d8b3ece",
      "metadata": {
        "id": "301807cd-27e0-4f41-9fac-b8083d8b3ece"
      },
      "outputs": [],
      "source": [
        "y = to_categorical(data_train['level'].values)\n",
        "y_test = to_categorical(data_test['level'].values)"
      ]
    },
    {
      "cell_type": "code",
      "execution_count": 27,
      "id": "7102a9e6",
      "metadata": {},
      "outputs": [],
      "source": [
        "#tf.device('/device:GPU:0')"
      ]
    },
    {
      "cell_type": "code",
      "execution_count": 28,
      "id": "3691a84c",
      "metadata": {},
      "outputs": [
        {
          "data": {
            "text/plain": [
              "13694"
            ]
          },
          "execution_count": 28,
          "metadata": {},
          "output_type": "execute_result"
        }
      ],
      "source": [
        "len(tokenizer.word_index)"
      ]
    },
    {
      "cell_type": "markdown",
      "id": "0ac98ad6",
      "metadata": {},
      "source": [
        "### glove embeddings(need to try)!!!!!"
      ]
    },
    {
      "cell_type": "code",
      "execution_count": null,
      "id": "1dfb4a6d",
      "metadata": {},
      "outputs": [],
      "source": [
        "import numpy as np\n",
        "\n",
        "def load_glove(word_index, max_features, embedding_dim=300):\n",
        "    EMBEDDING_FILE = '../input/glove840b300dtxt/glove.840B.300d.txt'\n",
        "\n",
        "    def get_coefs(word, *arr):\n",
        "        return word, np.asarray(arr, dtype='float32')[:embedding_dim]\n",
        "\n",
        "    embeddings_index = dict(get_coefs(*o.split(\" \")) for o in open(EMBEDDING_FILE))\n",
        "\n",
        "    all_embs = np.stack(embeddings_index.values())\n",
        "    emb_mean, emb_std = all_embs.mean(), all_embs.std()\n",
        "\n",
        "    embedding_matrix = np.random.normal(emb_mean, emb_std, (max_features, embedding_dim))\n",
        "    \n",
        "    for word, i in word_index.items():\n",
        "        if i >= max_features:\n",
        "            continue\n",
        "        embedding_vector = embeddings_index.get(word)\n",
        "        if embedding_vector is not None:\n",
        "            embedding_matrix[i] = embedding_vector\n",
        "        else:\n",
        "            embedding_vector = embeddings_index.get(word.capitalize())\n",
        "            if embedding_vector is not None:\n",
        "                embedding_matrix[i] = embedding_vector\n",
        "\n",
        "    return embedding_matrix\n",
        "\n",
        "# Assuming you have defined MAX_NB_WORDS and EMBEDDING_DIM\n",
        "MAX_NB_WORDS = 10000  # Define based on your requirements\n",
        "EMBEDDING_DIM = 300  # Adjust based on the dimension of GloVe embeddings you are using\n",
        "\n",
        "# Assuming you have defined tokenizer\n",
        "max_features = min(MAX_NB_WORDS, len(tokenizer.word_index) + 1)\n",
        "embedding_matrix = load_glove(tokenizer.word_index, max_features)\n",
        "\n",
        "# Now you can use the embedding_matrix in your model\n"
      ]
    },
    {
      "cell_type": "code",
      "execution_count": 28,
      "id": "4ca61373-ce89-4398-91f3-6de70660a43e",
      "metadata": {
        "colab": {
          "base_uri": "https://localhost:8080/"
        },
        "id": "4ca61373-ce89-4398-91f3-6de70660a43e",
        "outputId": "83d78e74-776c-4f8a-dcc4-3cacdec7c031"
      },
      "outputs": [
        {
          "name": "stdout",
          "output_type": "stream",
          "text": [
            "Epoch 1/100\n",
            "139/139 [==============================] - 36s 185ms/step - loss: 1.0736 - accuracy: 0.3883 - val_loss: 1.1161 - val_accuracy: 0.3414\n",
            "Epoch 2/100\n",
            "139/139 [==============================] - 24s 171ms/step - loss: 0.9774 - accuracy: 0.4807 - val_loss: 1.2131 - val_accuracy: 0.3213\n",
            "Epoch 3/100\n",
            "139/139 [==============================] - 24s 172ms/step - loss: 0.8790 - accuracy: 0.5506 - val_loss: 1.3842 - val_accuracy: 0.3597\n",
            "Epoch 4/100\n",
            "139/139 [==============================] - 24s 173ms/step - loss: 0.7920 - accuracy: 0.6069 - val_loss: 1.5555 - val_accuracy: 0.3038\n",
            "Epoch 5/100\n",
            "139/139 [==============================] - 24s 173ms/step - loss: 0.7341 - accuracy: 0.6356 - val_loss: 1.7242 - val_accuracy: 0.2787\n",
            "Epoch 6/100\n",
            "139/139 [==============================] - 24s 173ms/step - loss: 0.6803 - accuracy: 0.6622 - val_loss: 1.8468 - val_accuracy: 0.2868\n",
            "Epoch 7/100\n",
            "139/139 [==============================] - 24s 173ms/step - loss: 0.6345 - accuracy: 0.6815 - val_loss: 2.0726 - val_accuracy: 0.3065\n",
            "Epoch 8/100\n",
            "139/139 [==============================] - 24s 173ms/step - loss: 0.5943 - accuracy: 0.7034 - val_loss: 2.2896 - val_accuracy: 0.2707\n",
            "Epoch 9/100\n",
            "139/139 [==============================] - 24s 173ms/step - loss: 0.5594 - accuracy: 0.7206 - val_loss: 2.5756 - val_accuracy: 0.2694\n",
            "Epoch 10/100\n",
            "139/139 [==============================] - 24s 173ms/step - loss: 0.5337 - accuracy: 0.7266 - val_loss: 2.6534 - val_accuracy: 0.2649\n",
            "Epoch 11/100\n",
            "139/139 [==============================] - 24s 173ms/step - loss: 0.5015 - accuracy: 0.7404 - val_loss: 3.0524 - val_accuracy: 0.2658\n",
            "Epoch 12/100\n",
            "139/139 [==============================] - 24s 173ms/step - loss: 0.4797 - accuracy: 0.7480 - val_loss: 2.9679 - val_accuracy: 0.2787\n",
            "Epoch 13/100\n",
            "139/139 [==============================] - 24s 173ms/step - loss: 0.4580 - accuracy: 0.7575 - val_loss: 3.5031 - val_accuracy: 0.2644\n",
            "Epoch 14/100\n",
            "139/139 [==============================] - 24s 174ms/step - loss: 0.4347 - accuracy: 0.7678 - val_loss: 3.4491 - val_accuracy: 0.2550\n",
            "Epoch 15/100\n",
            "139/139 [==============================] - 24s 174ms/step - loss: 0.4191 - accuracy: 0.7745 - val_loss: 3.8342 - val_accuracy: 0.2635\n",
            "Epoch 16/100\n",
            "139/139 [==============================] - 24s 174ms/step - loss: 0.4024 - accuracy: 0.7859 - val_loss: 3.9340 - val_accuracy: 0.2519\n",
            "Epoch 17/100\n",
            "139/139 [==============================] - 24s 174ms/step - loss: 0.3882 - accuracy: 0.7837 - val_loss: 4.0121 - val_accuracy: 0.2425\n",
            "Epoch 18/100\n",
            "139/139 [==============================] - 24s 173ms/step - loss: 0.3774 - accuracy: 0.7933 - val_loss: 4.3588 - val_accuracy: 0.2523\n",
            "Epoch 19/100\n",
            "139/139 [==============================] - 24s 175ms/step - loss: 0.3692 - accuracy: 0.7984 - val_loss: 4.2803 - val_accuracy: 0.2532\n",
            "Epoch 20/100\n",
            "139/139 [==============================] - 24s 174ms/step - loss: 0.3595 - accuracy: 0.8003 - val_loss: 4.4147 - val_accuracy: 0.2609\n",
            "Epoch 21/100\n",
            "139/139 [==============================] - 24s 174ms/step - loss: 0.3504 - accuracy: 0.8055 - val_loss: 4.5275 - val_accuracy: 0.2573\n",
            "Epoch 22/100\n",
            "139/139 [==============================] - 24s 174ms/step - loss: 0.3462 - accuracy: 0.8070 - val_loss: 4.5212 - val_accuracy: 0.2501\n",
            "Epoch 23/100\n",
            "139/139 [==============================] - 24s 174ms/step - loss: 0.3350 - accuracy: 0.8136 - val_loss: 4.6182 - val_accuracy: 0.2506\n",
            "Epoch 24/100\n",
            "139/139 [==============================] - 24s 174ms/step - loss: 0.3317 - accuracy: 0.8119 - val_loss: 4.7546 - val_accuracy: 0.2421\n",
            "Epoch 25/100\n",
            "139/139 [==============================] - 24s 174ms/step - loss: 0.3232 - accuracy: 0.8178 - val_loss: 4.6357 - val_accuracy: 0.2461\n",
            "Epoch 26/100\n",
            "139/139 [==============================] - 24s 174ms/step - loss: 0.3140 - accuracy: 0.8219 - val_loss: 4.7125 - val_accuracy: 0.2523\n",
            "Epoch 27/100\n",
            "139/139 [==============================] - 24s 174ms/step - loss: 0.3134 - accuracy: 0.8195 - val_loss: 5.0811 - val_accuracy: 0.2573\n",
            "Epoch 28/100\n",
            "139/139 [==============================] - 24s 174ms/step - loss: 0.3069 - accuracy: 0.8237 - val_loss: 4.9919 - val_accuracy: 0.2380\n",
            "Epoch 29/100\n",
            "139/139 [==============================] - 24s 174ms/step - loss: 0.3039 - accuracy: 0.8278 - val_loss: 4.6316 - val_accuracy: 0.2447\n",
            "Epoch 30/100\n",
            "139/139 [==============================] - 24s 174ms/step - loss: 0.2998 - accuracy: 0.8301 - val_loss: 4.7111 - val_accuracy: 0.2537\n",
            "Epoch 31/100\n",
            "139/139 [==============================] - 24s 174ms/step - loss: 0.2966 - accuracy: 0.8304 - val_loss: 5.0036 - val_accuracy: 0.2488\n",
            "Epoch 32/100\n",
            "139/139 [==============================] - 24s 174ms/step - loss: 0.2951 - accuracy: 0.8325 - val_loss: 5.0394 - val_accuracy: 0.2532\n",
            "Epoch 33/100\n",
            "139/139 [==============================] - 24s 174ms/step - loss: 0.2845 - accuracy: 0.8371 - val_loss: 5.2182 - val_accuracy: 0.2483\n",
            "Epoch 34/100\n",
            "139/139 [==============================] - 24s 174ms/step - loss: 0.2849 - accuracy: 0.8361 - val_loss: 5.3357 - val_accuracy: 0.2398\n",
            "Epoch 35/100\n",
            "139/139 [==============================] - 24s 174ms/step - loss: 0.2835 - accuracy: 0.8362 - val_loss: 5.2990 - val_accuracy: 0.2353\n",
            "Epoch 36/100\n",
            "139/139 [==============================] - 24s 174ms/step - loss: 0.2812 - accuracy: 0.8374 - val_loss: 4.9177 - val_accuracy: 0.2604\n",
            "Epoch 37/100\n",
            "139/139 [==============================] - 24s 173ms/step - loss: 0.2765 - accuracy: 0.8417 - val_loss: 5.0747 - val_accuracy: 0.2546\n",
            "Epoch 38/100\n",
            "139/139 [==============================] - 24s 174ms/step - loss: 0.2694 - accuracy: 0.8399 - val_loss: 5.3992 - val_accuracy: 0.2421\n",
            "Epoch 39/100\n",
            "139/139 [==============================] - 24s 174ms/step - loss: 0.2688 - accuracy: 0.8436 - val_loss: 5.3050 - val_accuracy: 0.2430\n",
            "Epoch 40/100\n",
            "139/139 [==============================] - 24s 174ms/step - loss: 0.2686 - accuracy: 0.8408 - val_loss: 5.2849 - val_accuracy: 0.2546\n",
            "Epoch 41/100\n",
            "139/139 [==============================] - 24s 173ms/step - loss: 0.2607 - accuracy: 0.8461 - val_loss: 5.3384 - val_accuracy: 0.2501\n",
            "Epoch 42/100\n",
            "139/139 [==============================] - 24s 174ms/step - loss: 0.2648 - accuracy: 0.8455 - val_loss: 5.3351 - val_accuracy: 0.2528\n",
            "Epoch 43/100\n",
            "139/139 [==============================] - 24s 174ms/step - loss: 0.2603 - accuracy: 0.8444 - val_loss: 5.3969 - val_accuracy: 0.2497\n",
            "Epoch 44/100\n",
            "139/139 [==============================] - 24s 174ms/step - loss: 0.2588 - accuracy: 0.8473 - val_loss: 5.4716 - val_accuracy: 0.2452\n",
            "Epoch 45/100\n",
            "139/139 [==============================] - 24s 174ms/step - loss: 0.2515 - accuracy: 0.8487 - val_loss: 5.5251 - val_accuracy: 0.2488\n",
            "Epoch 46/100\n",
            "139/139 [==============================] - 24s 174ms/step - loss: 0.2514 - accuracy: 0.8494 - val_loss: 5.6002 - val_accuracy: 0.2434\n",
            "Epoch 47/100\n",
            "139/139 [==============================] - 24s 174ms/step - loss: 0.2525 - accuracy: 0.8472 - val_loss: 5.7072 - val_accuracy: 0.2425\n",
            "Epoch 48/100\n",
            "139/139 [==============================] - 24s 174ms/step - loss: 0.2537 - accuracy: 0.8475 - val_loss: 5.6512 - val_accuracy: 0.2506\n",
            "Epoch 48: early stopping\n"
          ]
        }
      ],
      "source": [
        "model = Sequential()\n",
        "model.add(Embedding(MAX_NB_WORDS, EMBEDDING_DIM, input_length=X.shape[1]))\n",
        "model.add(SpatialDropout1D(0.2))\n",
        "model.add(Bidirectional(LSTM(105, return_sequences=True)))\n",
        "model.add(Bidirectional(LSTM(1050, return_sequences=True)))\n",
        "model.add(Bidirectional(LSTM(500, return_sequences=False)))\n",
        "model.add(Dense(3, activation='softmax'))\n",
        "model.compile(loss='categorical_crossentropy', optimizer='adam', metrics=['accuracy'])\n",
        "\n",
        "epochs = 100 #need to try for 100\n",
        "batch_size = 128\n",
        "# epochs = 1\n",
        "# batch_size = 512\n",
        "with tf.device('/device:GPU:0'):\n",
        "\n",
        "    history = model.fit(X, y, epochs=epochs, batch_size=batch_size, validation_data=(X_test, y_test),\n",
        "                        callbacks=[EarlyStopping(monitor='loss', patience=3, min_delta=0.0001,verbose=1)])\n"
      ]
    },
    {
      "cell_type": "code",
      "execution_count": 34,
      "id": "alMiJjV2DISf",
      "metadata": {
        "colab": {
          "base_uri": "https://localhost:8080/"
        },
        "id": "alMiJjV2DISf",
        "outputId": "e94c555c-b59f-4082-b63f-8f1cce137f2b"
      },
      "outputs": [
        {
          "name": "stdout",
          "output_type": "stream",
          "text": [
            "70/70 [==============================] - 2s 31ms/step - loss: 5.6512 - accuracy: 0.2506\n",
            "Train: 0.864, Test: 0.251\n"
          ]
        }
      ],
      "source": [
        "_, train_acc = model.evaluate(X, y, verbose=0)\n",
        "_, test_acc = model.evaluate(X_test, y_test, verbose=1)\n",
        "print('Train: %.3f, Test: %.3f' % (train_acc, test_acc))"
      ]
    },
    {
      "cell_type": "code",
      "execution_count": 35,
      "id": "95b205ed-3198-4e4d-917c-dc4de7903fef",
      "metadata": {
        "colab": {
          "base_uri": "https://localhost:8080/"
        },
        "id": "95b205ed-3198-4e4d-917c-dc4de7903fef",
        "outputId": "644d0591-ea22-4831-ed6d-44e0c95174f2"
      },
      "outputs": [
        {
          "name": "stdout",
          "output_type": "stream",
          "text": [
            "70/70 [==============================] - 3s 30ms/step - loss: 5.6512 - accuracy: 0.2506\n",
            "Test set\n",
            "  Loss: 5.651\n",
            "  Accuracy: 0.251\n"
          ]
        }
      ],
      "source": [
        "accr = model.evaluate(X_test, y_test)\n",
        "print('Test set\\n  Loss: {:0.3f}\\n  Accuracy: {:0.3f}'.format(accr[0],accr[1]))"
      ]
    },
    {
      "cell_type": "code",
      "execution_count": 36,
      "id": "af5e3f12-8318-48a6-908c-0564062e37cb",
      "metadata": {
        "colab": {
          "base_uri": "https://localhost:8080/",
          "height": 281
        },
        "id": "af5e3f12-8318-48a6-908c-0564062e37cb",
        "outputId": "772502f2-9ee7-4ba5-a8cc-ff457287de9e"
      },
      "outputs": [
        {
          "data": {
            "image/png": "[encoded data removed]",
            "text/plain": [
              "<Figure size 640x480 with 1 Axes>"
            ]
          },
          "metadata": {},
          "output_type": "display_data"
        }
      ],
      "source": [
        "plt.title('Loss')\n",
        "plt.plot(history.history['loss'], label='train')\n",
        "plt.plot(history.history['val_loss'], label='validation')\n",
        "plt.legend()\n",
        "plt.show()"
      ]
    },
    {
      "cell_type": "code",
      "execution_count": 37,
      "id": "m8KnxO9HrAlT",
      "metadata": {
        "colab": {
          "base_uri": "https://localhost:8080/",
          "height": 281
        },
        "id": "m8KnxO9HrAlT",
        "outputId": "1e24224e-bcb3-44d1-e8e1-52282bbeadbe"
      },
      "outputs": [
        {
          "data": {
            "image/png": "[encoded data removed]",
            "text/plain": [
              "<Figure size 640x480 with 1 Axes>"
            ]
          },
          "metadata": {},
          "output_type": "display_data"
        }
      ],
      "source": [
        "plt.title('Accuracy')\n",
        "plt.plot(history.history['accuracy'], label='train')\n",
        "plt.plot(history.history['val_accuracy'], label='validation')\n",
        "plt.legend()\n",
        "plt.show()"
      ]
    }
  ],
  "metadata": {
    "accelerator": "GPU",
    "colab": {
      "collapsed_sections": [],
      "include_colab_link": true,
      "name": "data_modelling_keras_final.ipynb",
      "provenance": []
    },
    "kernelspec": {
      "display_name": "Python 3",
      "name": "python3"
    },
    "language_info": {
      "codemirror_mode": {
        "name": "ipython",
        "version": 3
      },
      "file_extension": ".py",
      "mimetype": "text/x-python",
      "name": "python",
      "nbconvert_exporter": "python",
      "pygments_lexer": "ipython3",
      "version": "3.8.18"
    }
  },
  "nbformat": 4,
  "nbformat_minor": 5
}
