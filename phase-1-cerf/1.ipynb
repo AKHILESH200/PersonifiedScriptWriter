{
 "cells": [
  {
   "cell_type": "code",
   "execution_count": 1,
   "metadata": {},
   "outputs": [
    {
     "name": "stdout",
     "output_type": "stream",
     "text": [
      "just for testing purpose\n"
     ]
    }
   ],
   "source": [
    "print(\"just for testing purpose\")"
   ]
  },
  {
   "cell_type": "code",
   "execution_count": 4,
   "metadata": {},
   "outputs": [
    {
     "name": "stdout",
     "output_type": "stream",
     "text": [
      "                       Count\n",
      "Category Value kappan       \n",
      "A        1     abc      10.0\n",
      "               def      40.0\n",
      "B        2     def      30.0\n"
     ]
    }
   ],
   "source": [
    "import pandas as pd\n",
    "\n",
    "# Sample DataFrame\n",
    "data = {'Category': ['A', 'B', 'A', 'B', 'A'],\n",
    "        'Value': [1, 2, 1, 2, 1],\n",
    "        'Count': [10, 20, 30, 40, 50],\n",
    "        'kappan':['abc','def','def','def','def']}\n",
    "\n",
    "df = pd.DataFrame(data)\n",
    "\n",
    "# Convert 'Count' to float if it's not already to handle potential NaN values\n",
    "df['Count'] = df['Count'].astype(float)\n",
    "\n",
    "# Grouping by 'Category', 'Value', and 'kappan', then calculating the mean of 'Count' for each group\n",
    "grouped_mean_df = df.groupby(['Category', 'Value', 'kappan']).mean()\n",
    "\n",
    "print(grouped_mean_df)\n"
   ]
  },
  {
   "cell_type": "code",
   "execution_count": 10,
   "metadata": {},
   "outputs": [
    {
     "name": "stdout",
     "output_type": "stream",
     "text": [
      "R : 0.4, G : 0.7607843137254902, B : 0.6470588235294118\n",
      "R : 0.9882352941176471, G : 0.5529411764705883, B : 0.3843137254901961\n",
      "R : 0.5529411764705883, G : 0.6274509803921569, B : 0.796078431372549\n",
      "R : 0.9058823529411765, G : 0.5411764705882353, B : 0.7647058823529411\n",
      "R : 0.6509803921568628, G : 0.8470588235294118, B : 0.32941176470588235\n",
      "R : 1.0, G : 0.8509803921568627, B : 0.1843137254901961\n",
      "R : 0.8980392156862745, G : 0.7686274509803922, B : 0.5803921568627451\n",
      "R : 0.7019607843137254, G : 0.7019607843137254, B : 0.7019607843137254\n"
     ]
    }
   ],
   "source": [
    "import seaborn as sns\n",
    "palette=sns.color_palette(\"Set2\")\n",
    "for color in palette:\n",
    "    print(f\"R : {color[0]}, G : {color[1]}, B : {color[2]}\")"
   ]
  },
  {
   "cell_type": "markdown",
   "metadata": {},
   "source": [
    "### TESTING GPU INTERFACE"
   ]
  },
  {
   "cell_type": "code",
   "execution_count": 1,
   "metadata": {},
   "outputs": [
    {
     "name": "stdout",
     "output_type": "stream",
     "text": [
      "Thu Feb 22 10:55:54 2024       \n",
      "+-----------------------------------------------------------------------------+\n",
      "| NVIDIA-SMI 512.78       Driver Version: 512.78       CUDA Version: 11.6     |\n",
      "|-------------------------------+----------------------+----------------------+\n",
      "| GPU  Name            TCC/WDDM | Bus-Id        Disp.A | Volatile Uncorr. ECC |\n",
      "| Fan  Temp  Perf  Pwr:Usage/Cap|         Memory-Usage | GPU-Util  Compute M. |\n",
      "|                               |                      |               MIG M. |\n",
      "|===============================+======================+======================|\n",
      "|   0  NVIDIA GeForce ... WDDM  | 00000000:01:00.0 Off |                  N/A |\n",
      "| N/A   63C    P3    12W /  N/A |      0MiB /  4096MiB |      0%      Default |\n",
      "|                               |                      |                  N/A |\n",
      "+-------------------------------+----------------------+----------------------+\n",
      "                                                                               \n",
      "+-----------------------------------------------------------------------------+\n",
      "| Processes:                                                                  |\n",
      "|  GPU   GI   CI        PID   Type   Process name                  GPU Memory |\n",
      "|        ID   ID                                                   Usage      |\n",
      "|=============================================================================|\n",
      "|  No running processes found                                                 |\n",
      "+-----------------------------------------------------------------------------+\n"
     ]
    }
   ],
   "source": [
    "gpu_info = !nvidia-smi\n",
    "gpu_info = '\\n'.join(gpu_info)\n",
    "if gpu_info.find('failed') >= 0:\n",
    "  print('Not connected to a GPU')\n",
    "else:\n",
    "  print(gpu_info)"
   ]
  }
 ],
 "metadata": {
  "kernelspec": {
   "display_name": "env",
   "language": "python",
   "name": "python3"
  },
  "language_info": {
   "codemirror_mode": {
    "name": "ipython",
    "version": 3
   },
   "file_extension": ".py",
   "mimetype": "text/x-python",
   "name": "python",
   "nbconvert_exporter": "python",
   "pygments_lexer": "ipython3",
   "version": "3.12.2"
  }
 },
 "nbformat": 4,
 "nbformat_minor": 2
}
